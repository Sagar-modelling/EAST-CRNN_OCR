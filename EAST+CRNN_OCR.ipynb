{
  "nbformat": 4,
  "nbformat_minor": 0,
  "metadata": {
    "colab": {
      "name": "EAST+CRNN_OCR.ipynb",
      "provenance": [],
      "collapsed_sections": [],
      "authorship_tag": "ABX9TyNma/cOZlZkSwZbWPxi0Wv+",
      "include_colab_link": true
    },
    "kernelspec": {
      "name": "python3",
      "display_name": "Python 3"
    },
    "language_info": {
      "name": "python"
    }
  },
  "cells": [
    {
      "cell_type": "markdown",
      "metadata": {
        "id": "view-in-github",
        "colab_type": "text"
      },
      "source": [
        "<a href=\"https://colab.research.google.com/github/Sagar-modelling/EAST-CRNN_OCR/blob/main/EAST%2BCRNN_OCR.ipynb\" target=\"_parent\"><img src=\"https://colab.research.google.com/assets/colab-badge.svg\" alt=\"Open In Colab\"/></a>"
      ]
    },
    {
      "cell_type": "code",
      "metadata": {
        "colab": {
          "base_uri": "https://localhost:8080/"
        },
        "id": "LBiA7GUyYbj_",
        "outputId": "5e588514-339c-4689-b39d-f88da0940739"
      },
      "source": [
        "!pip install tensorflow==1.14"
      ],
      "execution_count": 27,
      "outputs": [
        {
          "output_type": "stream",
          "text": [
            "Requirement already satisfied: tensorflow==1.14 in /usr/local/lib/python3.7/dist-packages (1.14.0)\n",
            "Requirement already satisfied: astor>=0.6.0 in /usr/local/lib/python3.7/dist-packages (from tensorflow==1.14) (0.8.1)\n",
            "Requirement already satisfied: six>=1.10.0 in /usr/local/lib/python3.7/dist-packages (from tensorflow==1.14) (1.15.0)\n",
            "Requirement already satisfied: google-pasta>=0.1.6 in /usr/local/lib/python3.7/dist-packages (from tensorflow==1.14) (0.2.0)\n",
            "Requirement already satisfied: tensorboard<1.15.0,>=1.14.0 in /usr/local/lib/python3.7/dist-packages (from tensorflow==1.14) (1.14.0)\n",
            "Requirement already satisfied: numpy<2.0,>=1.14.5 in /usr/local/lib/python3.7/dist-packages (from tensorflow==1.14) (1.19.5)\n",
            "Requirement already satisfied: keras-applications>=1.0.6 in /usr/local/lib/python3.7/dist-packages (from tensorflow==1.14) (1.0.8)\n",
            "Requirement already satisfied: tensorflow-estimator<1.15.0rc0,>=1.14.0rc0 in /usr/local/lib/python3.7/dist-packages (from tensorflow==1.14) (1.14.0)\n",
            "Requirement already satisfied: grpcio>=1.8.6 in /usr/local/lib/python3.7/dist-packages (from tensorflow==1.14) (1.34.1)\n",
            "Requirement already satisfied: wheel>=0.26 in /usr/local/lib/python3.7/dist-packages (from tensorflow==1.14) (0.36.2)\n",
            "Requirement already satisfied: absl-py>=0.7.0 in /usr/local/lib/python3.7/dist-packages (from tensorflow==1.14) (0.12.0)\n",
            "Requirement already satisfied: wrapt>=1.11.1 in /usr/local/lib/python3.7/dist-packages (from tensorflow==1.14) (1.12.1)\n",
            "Requirement already satisfied: gast>=0.2.0 in /usr/local/lib/python3.7/dist-packages (from tensorflow==1.14) (0.4.0)\n",
            "Requirement already satisfied: termcolor>=1.1.0 in /usr/local/lib/python3.7/dist-packages (from tensorflow==1.14) (1.1.0)\n",
            "Requirement already satisfied: protobuf>=3.6.1 in /usr/local/lib/python3.7/dist-packages (from tensorflow==1.14) (3.17.3)\n",
            "Requirement already satisfied: keras-preprocessing>=1.0.5 in /usr/local/lib/python3.7/dist-packages (from tensorflow==1.14) (1.1.2)\n",
            "Requirement already satisfied: h5py in /usr/local/lib/python3.7/dist-packages (from keras-applications>=1.0.6->tensorflow==1.14) (3.1.0)\n",
            "Requirement already satisfied: markdown>=2.6.8 in /usr/local/lib/python3.7/dist-packages (from tensorboard<1.15.0,>=1.14.0->tensorflow==1.14) (3.3.4)\n",
            "Requirement already satisfied: werkzeug>=0.11.15 in /usr/local/lib/python3.7/dist-packages (from tensorboard<1.15.0,>=1.14.0->tensorflow==1.14) (1.0.1)\n",
            "Requirement already satisfied: setuptools>=41.0.0 in /usr/local/lib/python3.7/dist-packages (from tensorboard<1.15.0,>=1.14.0->tensorflow==1.14) (57.2.0)\n",
            "Requirement already satisfied: importlib-metadata in /usr/local/lib/python3.7/dist-packages (from markdown>=2.6.8->tensorboard<1.15.0,>=1.14.0->tensorflow==1.14) (4.6.1)\n",
            "Requirement already satisfied: cached-property in /usr/local/lib/python3.7/dist-packages (from h5py->keras-applications>=1.0.6->tensorflow==1.14) (1.5.2)\n",
            "Requirement already satisfied: typing-extensions>=3.6.4 in /usr/local/lib/python3.7/dist-packages (from importlib-metadata->markdown>=2.6.8->tensorboard<1.15.0,>=1.14.0->tensorflow==1.14) (3.7.4.3)\n",
            "Requirement already satisfied: zipp>=0.5 in /usr/local/lib/python3.7/dist-packages (from importlib-metadata->markdown>=2.6.8->tensorboard<1.15.0,>=1.14.0->tensorflow==1.14) (3.5.0)\n"
          ],
          "name": "stdout"
        }
      ]
    },
    {
      "cell_type": "code",
      "metadata": {
        "colab": {
          "base_uri": "https://localhost:8080/"
        },
        "id": "3FDJXeJVYebP",
        "outputId": "9bcac064-274b-4ca5-89bf-08a8017ba9fa"
      },
      "source": [
        "!pip install opencv-python==4.4.0.40"
      ],
      "execution_count": 28,
      "outputs": [
        {
          "output_type": "stream",
          "text": [
            "Requirement already satisfied: opencv-python==4.4.0.40 in /usr/local/lib/python3.7/dist-packages (4.4.0.40)\n",
            "Requirement already satisfied: numpy>=1.14.5 in /usr/local/lib/python3.7/dist-packages (from opencv-python==4.4.0.40) (1.19.5)\n"
          ],
          "name": "stdout"
        }
      ]
    },
    {
      "cell_type": "code",
      "metadata": {
        "id": "mJeb46gLWsnc"
      },
      "source": [
        "from google.colab.patches import cv2_imshow\n",
        "import numpy as np\n",
        "import cv2"
      ],
      "execution_count": 29,
      "outputs": []
    },
    {
      "cell_type": "code",
      "metadata": {
        "colab": {
          "base_uri": "https://localhost:8080/"
        },
        "id": "wrxbLEU0XUnT",
        "outputId": "7aee2a4e-f36d-4b9f-d704-a7c28e2778e3"
      },
      "source": [
        "from google.colab import drive\n",
        "drive.mount('/content/gdrive')"
      ],
      "execution_count": 30,
      "outputs": [
        {
          "output_type": "stream",
          "text": [
            "Drive already mounted at /content/gdrive; to attempt to forcibly remount, call drive.mount(\"/content/gdrive\", force_remount=True).\n"
          ],
          "name": "stdout"
        }
      ]
    },
    {
      "cell_type": "code",
      "metadata": {
        "colab": {
          "base_uri": "https://localhost:8080/"
        },
        "id": "pxrWms_4XXTr",
        "outputId": "f12631df-c7f7-4dea-fb2a-3a7e2dc9cd46"
      },
      "source": [
        "!tar -xzvf \"/content/gdrive/MyDrive/frozen_east_text_detection.tar.gz\""
      ],
      "execution_count": 31,
      "outputs": [
        {
          "output_type": "stream",
          "text": [
            "frozen_east_text_detection.pb\n"
          ],
          "name": "stdout"
        }
      ]
    },
    {
      "cell_type": "code",
      "metadata": {
        "colab": {
          "base_uri": "https://localhost:8080/",
          "height": 508
        },
        "id": "xP3n00d0Yq9U",
        "outputId": "f5b57f07-1ee9-4532-84dc-4d6647f5b331"
      },
      "source": [
        "img = cv2.imread('/content/OCR_LNP.png')\n",
        "cv2_imshow(img)"
      ],
      "execution_count": 32,
      "outputs": [
        {
          "output_type": "display_data",
          "data": {
            "image/png": "[encoded data removed]",
            "text/plain": [
              "<PIL.Image.Image image mode=RGB size=360x492 at 0x7F68C777D590>"
            ]
          },
          "metadata": {
            "tags": []
          }
        }
      ]
    },
    {
      "cell_type": "code",
      "metadata": {
        "id": "zGOKyEgFXaiW"
      },
      "source": [
        "# Download the EAST model and Load it\n",
        "model = cv2.dnn.readNet('/content/frozen_east_text_detection.pb')\n",
        "model1 = cv2.dnn.readNet('/content/gdrive/MyDrive/crnn.onnx')"
      ],
      "execution_count": 33,
      "outputs": []
    },
    {
      "cell_type": "code",
      "metadata": {
        "colab": {
          "base_uri": "https://localhost:8080/"
        },
        "id": "DE2hvhr0Xdrc",
        "outputId": "1aa85d50-956b-4c0e-c675-b36a1f3d8ef9"
      },
      "source": [
        "# ## Prepare the image\n",
        "# use multiple of 32 to set the new img shape\n",
        "height, width, _ = img.shape\n",
        "new_height = (height//32)*32\n",
        "new_width = (width//32)*32\n",
        "print(new_height, new_width)"
      ],
      "execution_count": 34,
      "outputs": [
        {
          "output_type": "stream",
          "text": [
            "480 352\n"
          ],
          "name": "stdout"
        }
      ]
    },
    {
      "cell_type": "code",
      "metadata": {
        "colab": {
          "base_uri": "https://localhost:8080/"
        },
        "id": "lOaDms-AXgrA",
        "outputId": "bbd75bbd-a867-40f8-b5c2-123af0ab772e"
      },
      "source": [
        "# get the ratio change in width and height\n",
        "h_ratio = height/new_height\n",
        "w_ratio = width/new_width\n",
        "print(h_ratio, w_ratio)"
      ],
      "execution_count": 35,
      "outputs": [
        {
          "output_type": "stream",
          "text": [
            "1.025 1.0227272727272727\n"
          ],
          "name": "stdout"
        }
      ]
    },
    {
      "cell_type": "code",
      "metadata": {
        "id": "ebZ7tPgUXi7i"
      },
      "source": [
        "blob = cv2.dnn.blobFromImage(img, 1, (new_width, new_height),(123.68, 116.78, 103.94), True, False)"
      ],
      "execution_count": 36,
      "outputs": []
    },
    {
      "cell_type": "code",
      "metadata": {
        "id": "rIKpjbyCXle5"
      },
      "source": [
        "model.setInput(blob)"
      ],
      "execution_count": 37,
      "outputs": []
    },
    {
      "cell_type": "code",
      "metadata": {
        "colab": {
          "base_uri": "https://localhost:8080/"
        },
        "id": "xI35bVAKXpkX",
        "outputId": "b34331a5-30d1-4e12-cf32-a98382c75cc4"
      },
      "source": [
        "model.getUnconnectedOutLayersNames() #get names of output layers that calculate geometry maps(concat_3) and scores(Conv_7) respectively."
      ],
      "execution_count": 38,
      "outputs": [
        {
          "output_type": "execute_result",
          "data": {
            "text/plain": [
              "['feature_fusion/concat_3', 'feature_fusion/Conv_7/Sigmoid']"
            ]
          },
          "metadata": {
            "tags": []
          },
          "execution_count": 38
        }
      ]
    },
    {
      "cell_type": "code",
      "metadata": {
        "id": "3GrMCyHmXvJU"
      },
      "source": [
        "(geometry, scores) = model.forward(model.getUnconnectedOutLayersNames()) ## -------------  Forward Propagation  -------------"
      ],
      "execution_count": 39,
      "outputs": []
    },
    {
      "cell_type": "code",
      "metadata": {
        "colab": {
          "base_uri": "https://localhost:8080/"
        },
        "id": "wh8HUYNAXx88",
        "outputId": "cb91d83d-ea42-483e-9eb0-66e2ec746697"
      },
      "source": [
        "(geometry).shape"
      ],
      "execution_count": 40,
      "outputs": [
        {
          "output_type": "execute_result",
          "data": {
            "text/plain": [
              "(1, 5, 120, 88)"
            ]
          },
          "metadata": {
            "tags": []
          },
          "execution_count": 40
        }
      ]
    },
    {
      "cell_type": "code",
      "metadata": {
        "colab": {
          "base_uri": "https://localhost:8080/"
        },
        "id": "mx31zYZbX1Ax",
        "outputId": "80cda0db-f3b9-462a-bc73-f1368c1ff19e"
      },
      "source": [
        "(scores).shape"
      ],
      "execution_count": 41,
      "outputs": [
        {
          "output_type": "execute_result",
          "data": {
            "text/plain": [
              "(1, 1, 120, 88)"
            ]
          },
          "metadata": {
            "tags": []
          },
          "execution_count": 41
        }
      ]
    },
    {
      "cell_type": "code",
      "metadata": {
        "id": "LoT77EqbX28S"
      },
      "source": [
        "# ## Post-Processing\n",
        "rectangles = [] #list 1\n",
        "confidence_score = [] #list 2\n",
        "for i in range(geometry.shape[2]): #iterate each pixel row by row to construct counding boxes. shape[2] pixel value = 208\n",
        "    for j in range(0, geometry.shape[3]):  #shape[3] pixel value =192\n",
        "        \n",
        "        if scores[0][0][i][j] < 0.1:  #if score of pixel is less than threshold then we don't consider the pixel and we continue\n",
        "            continue\n",
        "            #otherwise obtain bounding box coordinates as follows\n",
        "        bottom_x = int(j*4 + geometry[0][1][i][j])\n",
        "        bottom_y = int(i*4 + geometry[0][2][i][j])\n",
        "        \n",
        "\n",
        "        top_x = int(j*4 - geometry[0][3][i][j])\n",
        "        top_y = int(i*4 - geometry[0][0][i][j])\n",
        "        \n",
        "        rectangles.append((top_x, top_y, bottom_x, bottom_y))\n",
        "        confidence_score.append(float(scores[0][0][i][j]))"
      ],
      "execution_count": 42,
      "outputs": []
    },
    {
      "cell_type": "code",
      "metadata": {
        "id": "5wa2OguwX8L_"
      },
      "source": [
        "from imutils.object_detection import non_max_suppression"
      ],
      "execution_count": 43,
      "outputs": []
    },
    {
      "cell_type": "code",
      "metadata": {
        "colab": {
          "base_uri": "https://localhost:8080/"
        },
        "id": "lJGMQafDX-sJ",
        "outputId": "6d491650-05d8-4f56-8242-94e35d9ad28a"
      },
      "source": [
        "# use Non-max suppression to get the required rectangles\n",
        "import numpy as np\n",
        "fin_boxes = non_max_suppression(np.array(rectangles), probs=confidence_score, overlapThresh=0.5) #this NMS function only works for non roated text boxes.\n",
        "fin_boxes"
      ],
      "execution_count": 44,
      "outputs": [
        {
          "output_type": "execute_result",
          "data": {
            "text/plain": [
              "array([[142, 368, 198, 391],\n",
              "       [ 67, 109, 188, 134],\n",
              "       [ 69, 324, 218, 352],\n",
              "       [ 91,  67, 188,  91],\n",
              "       [197, 110, 270, 134],\n",
              "       [223, 324, 272, 349],\n",
              "       [197,  67, 245,  91]])"
            ]
          },
          "metadata": {
            "tags": []
          },
          "execution_count": 44
        }
      ]
    },
    {
      "cell_type": "code",
      "metadata": {
        "id": "7CCJXq5Bc3nG"
      },
      "source": [
        "alphabet_set = \"0123456789abcdefghijklmnopqrstuvwxyz\"\n",
        "blank = '-'"
      ],
      "execution_count": 45,
      "outputs": []
    },
    {
      "cell_type": "code",
      "metadata": {
        "id": "l5L24zd5glwq"
      },
      "source": [
        "char_set = blank + alphabet_set"
      ],
      "execution_count": 46,
      "outputs": []
    },
    {
      "cell_type": "markdown",
      "metadata": {
        "id": "HsvVR9hEdKj6"
      },
      "source": [
        "### --------------- Load the CRNN decoding functions -------------"
      ]
    },
    {
      "cell_type": "code",
      "metadata": {
        "id": "4ne-Uf3lcRZE"
      },
      "source": [
        "# Decode the scores to text\n",
        "def most_likely(scores, char_set):\n",
        "    text = \"\"\n",
        "    for i in range(scores.shape[0]):\n",
        "        c = np.argmax(scores[i][0])\n",
        "        text += char_set[c]\n",
        "    return text"
      ],
      "execution_count": 47,
      "outputs": []
    },
    {
      "cell_type": "code",
      "metadata": {
        "id": "gZiGABwLceEe"
      },
      "source": [
        "def map_rule(text): #apply mapping rule\n",
        "    char_list = []\n",
        "    for i in range(len(text)):\n",
        "        if i == 0:\n",
        "            if text[i] != '-':\n",
        "                char_list.append(text[i])\n",
        "        else:\n",
        "            if text[i] != '-' and (not (text[i] == text[i - 1])):\n",
        "                char_list.append(text[i])\n",
        "    return ''.join(char_list)"
      ],
      "execution_count": 48,
      "outputs": []
    },
    {
      "cell_type": "code",
      "metadata": {
        "id": "n_sDWXJPclzP"
      },
      "source": [
        "def best_path(scores, char_set):\n",
        "    text = most_likely(scores, char_set)\n",
        "    final_text = map_rule(text)\n",
        "    return final_text"
      ],
      "execution_count": 49,
      "outputs": []
    },
    {
      "cell_type": "code",
      "metadata": {
        "id": "hKbSdWWCYBVe",
        "colab": {
          "base_uri": "https://localhost:8080/"
        },
        "outputId": "517f6465-5dfb-4218-9728-0432ac598cd4"
      },
      "source": [
        "## ---------------  Recognize the text using CRNN in each segment -----------\n",
        "#display text boxes and converting to original shape\n",
        "img_copy = img.copy()\n",
        "for (x1, y1, x2, y2) in fin_boxes:\n",
        "\n",
        "    x1 = int(x1 * w_ratio)\n",
        "    y1 = int(y1 * h_ratio)\n",
        "    x2 = int(x2 * w_ratio)\n",
        "    y2 = int(y2 * h_ratio)\n",
        "\n",
        "    segment = img[y1:y2, x1:x2, :] #crop segments for inputting them to CRNN Model\n",
        "\n",
        "    segment_gray = cv2.cvtColor(segment, cv2.COLOR_BGR2GRAY)\n",
        "    blob = cv2.dnn.blobFromImage(segment_gray, scalefactor=1/127.5, size=(100,32), mean=127.5)\n",
        "    model1.setInput(blob)\n",
        "    scores = model1.forward()\n",
        "    text = best_path(scores, char_set)\n",
        "    print(text)\n",
        "    cv2.rectangle(img_copy, (x1, y1), (x2, y2), (0, 255, 0), 2)\n",
        "    cv2.putText(img_copy, text.strip(), (x1,y1-2), cv2.FONT_HERSHEY_COMPLEX, 0.7, (0,0,255),2)"
      ],
      "execution_count": 50,
      "outputs": [
        {
          "output_type": "stream",
          "text": [
            "text\n",
            "number\n",
            "recognize\n",
            "detect\n",
            "plate\n",
            "the\n",
            "the\n"
          ],
          "name": "stdout"
        }
      ]
    },
    {
      "cell_type": "code",
      "metadata": {
        "colab": {
          "base_uri": "https://localhost:8080/",
          "height": 508
        },
        "id": "aNrqmEtlcpvk",
        "outputId": "41d9b327-819e-403a-b531-7004d9163f59"
      },
      "source": [
        "cv2_imshow(img_copy)"
      ],
      "execution_count": 51,
      "outputs": [
        {
          "output_type": "display_data",
          "data": {
            "image/png": "[encoded data removed]",
            "text/plain": [
              "<PIL.Image.Image image mode=RGB size=360x492 at 0x7F68C7790BD0>"
            ]
          },
          "metadata": {
            "tags": []
          }
        }
      ]
    }
  ]
}